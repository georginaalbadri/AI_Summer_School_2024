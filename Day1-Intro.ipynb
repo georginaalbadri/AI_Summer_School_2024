{
 "cells": [
  {
   "cell_type": "code",
   "execution_count": 1,
   "metadata": {},
   "outputs": [
    {
     "ename": "ModuleNotFoundError",
     "evalue": "No module named 'tensorflow'",
     "output_type": "error",
     "traceback": [
      "\u001b[0;31m---------------------------------------------------------------------------\u001b[0m",
      "\u001b[0;31mModuleNotFoundError\u001b[0m                       Traceback (most recent call last)",
      "Cell \u001b[0;32mIn[1], line 4\u001b[0m\n\u001b[1;32m      2\u001b[0m \u001b[38;5;28;01mimport\u001b[39;00m \u001b[38;5;21;01mpandas\u001b[39;00m \u001b[38;5;28;01mas\u001b[39;00m \u001b[38;5;21;01mpd\u001b[39;00m\n\u001b[1;32m      3\u001b[0m \u001b[38;5;28;01mimport\u001b[39;00m \u001b[38;5;21;01mmatplotlib\u001b[39;00m\u001b[38;5;21;01m.\u001b[39;00m\u001b[38;5;21;01mpyplot\u001b[39;00m \u001b[38;5;28;01mas\u001b[39;00m \u001b[38;5;21;01mplt\u001b[39;00m\n\u001b[0;32m----> 4\u001b[0m \u001b[38;5;28;01mimport\u001b[39;00m \u001b[38;5;21;01mtensorflow\u001b[39;00m \u001b[38;5;28;01mas\u001b[39;00m \u001b[38;5;21;01mtf\u001b[39;00m\n\u001b[1;32m      5\u001b[0m \u001b[38;5;28;01mimport\u001b[39;00m \u001b[38;5;21;01mtensorflow_hub\u001b[39;00m \u001b[38;5;28;01mas\u001b[39;00m \u001b[38;5;21;01mhub\u001b[39;00m\n\u001b[1;32m      6\u001b[0m \u001b[38;5;28;01mimport\u001b[39;00m \u001b[38;5;21;01mcv2\u001b[39;00m\n",
      "\u001b[0;31mModuleNotFoundError\u001b[0m: No module named 'tensorflow'"
     ]
    }
   ],
   "source": [
    "import numpy as np\n",
    "import pandas as pd\n",
    "import matplotlib.pyplot as plt\n",
    "import tensorflow as tf\n",
    "import tensorflow_hub as hub\n",
    "import cv2\n",
    "from PIL import Image\n",
    "from sklearn.feature_extraction.text import CountVectorizer\n",
    "from sklearn.metrics.pairwise import cosine_similarity\n",
    "from google.colab.patches import cv2_imshow"
   ]
  },
  {
   "cell_type": "code",
   "execution_count": null,
   "metadata": {},
   "outputs": [],
   "source": [
    "# Function to download and display an image\n",
    "def display_image(url):\n",
    "    img = Image.open(requests.get(url, stream=True).raw)\n",
    "    plt.imshow(img)\n",
    "    plt.axis('off')\n",
    "    plt.show()\n",
    "    return img\n"
   ]
  },
  {
   "cell_type": "markdown",
   "metadata": {},
   "source": [
    "## Section 1: Language Processing\n",
    "Application: Sentiment Analysis"
   ]
  },
  {
   "cell_type": "code",
   "execution_count": null,
   "metadata": {},
   "outputs": [],
   "source": [
    "# Load a pre-trained sentiment analysis model from TensorFlow Hub\n",
    "sentiment_model = hub.load(\"https://tfhub.dev/google/tf2-preview/gnews-swivel-20dim/1\")"
   ]
  },
  {
   "cell_type": "code",
   "execution_count": null,
   "metadata": {},
   "outputs": [],
   "source": [
    "# Example text data\n",
    "texts = [\n",
    "    \"I love sunny days!\",\n",
    "    \"I hate when it rains all day.\",\n",
    "    \"The weather is just perfect.\",\n",
    "    \"I'm feeling quite sad today.\"\n",
    "]"
   ]
  },
  {
   "cell_type": "code",
   "execution_count": null,
   "metadata": {},
   "outputs": [],
   "source": [
    "# Convert text data to embeddings\n",
    "text_embeddings = sentiment_model(texts)"
   ]
  },
  {
   "cell_type": "code",
   "execution_count": null,
   "metadata": {},
   "outputs": [],
   "source": [
    "# Function to calculate sentiment score\n",
    "# Function to calculate sentiment score\n",
    "def sentiment_score(text_embedding):\n",
    "    positive_embedding = sentiment_model([\"I am happy\"])[0]\n",
    "    negative_embedding = sentiment_model([\"I am sad\"])[0]\n",
    "    positive_similarity = np.inner(text_embedding, positive_embedding)\n",
    "    negative_similarity = np.inner(text_embedding, negative_embedding)\n",
    "    return positive_similarity - negative_similarity"
   ]
  },
  {
   "cell_type": "code",
   "execution_count": null,
   "metadata": {},
   "outputs": [],
   "source": [
    "# Calculate sentiment scores for each text\n",
    "scores = [sentiment_score(embed) for embed in text_embeddings]"
   ]
  },
  {
   "cell_type": "code",
   "execution_count": null,
   "metadata": {},
   "outputs": [],
   "source": [
    "# Display the texts and their sentiment scores\n",
    "for text, score in zip(texts, scores):\n",
    "    sentiment = \"Positive\" if score > 0 else \"Negative\"\n",
    "    print(f\"Text: {text}\\nSentiment Score: {score} ({sentiment})\\n\")"
   ]
  },
  {
   "cell_type": "markdown",
   "metadata": {},
   "source": [
    "## Section 2: Computer Vision\n",
    "Application: Object Detection"
   ]
  },
  {
   "cell_type": "code",
   "execution_count": null,
   "metadata": {},
   "outputs": [],
   "source": [
    "# Load a pre-trained object detection model from TensorFlow Hub\n",
    "detector = hub.load(\"https://tfhub.dev/tensorflow/ssd_mobilenet_v2/2\")\n",
    "\n",
    "# Example image URL\n",
    "image_url = \"https://images.unsplash.com/photo-1593642532973-d31b6557fa68\""
   ]
  },
  {
   "cell_type": "code",
   "execution_count": null,
   "metadata": {},
   "outputs": [],
   "source": [
    "# Display the image\n",
    "img = display_image(image_url)"
   ]
  },
  {
   "cell_type": "code",
   "execution_count": null,
   "metadata": {},
   "outputs": [],
   "source": [
    "# Convert the image to a tensor\n",
    "img_tensor = tf.image.convert_image_dtype(np.array(img), tf.float32)[tf.newaxis, ...]"
   ]
  },
  {
   "cell_type": "code",
   "execution_count": null,
   "metadata": {},
   "outputs": [],
   "source": [
    "# Run the object detection model\n",
    "result = detector(img_tensor)"
   ]
  },
  {
   "cell_type": "code",
   "execution_count": null,
   "metadata": {},
   "outputs": [],
   "source": [
    "# Function to draw bounding boxes on the image\n",
    "def draw_boxes(image, boxes, class_names, scores, max_boxes=10, min_score=0.5):\n",
    "    colors = list(plt.cm.tab20(np.linspace(0, 1, 20)))\n",
    "    font = cv2.FONT_HERSHEY_SIMPLEX\n",
    "    for i in range(min(max_boxes, boxes.shape[0])):\n",
    "        if scores[i] >= min_score:\n",
    "            color = colors[int(class_names[i]) % len(colors)]\n",
    "            ymin, xmin, ymax, xmax = tuple(boxes[i])\n",
    "            image = cv2.rectangle(image, (int(xmin * img.width), int(ymin * img.height)),\n",
    "                                  (int(xmax * img.width), int(ymax * img.height)), color, 2)\n",
    "            image = cv2.putText(image, str(int(class_names[i])), (int(xmin * img.width), int(ymin * img.height) - 10),\n",
    "                                font, 0.5, color, 2)\n",
    "    return image"
   ]
  },
  {
   "cell_type": "code",
   "execution_count": null,
   "metadata": {},
   "outputs": [],
   "source": [
    "# Extract detection results\n",
    "boxes = result[\"detection_boxes\"][0].numpy()\n",
    "class_names = result[\"detection_classes\"][0].numpy()\n",
    "scores = result[\"detection_scores\"][0].numpy()"
   ]
  },
  {
   "cell_type": "code",
   "execution_count": null,
   "metadata": {},
   "outputs": [],
   "source": [
    "# Draw bounding boxes on the image\n",
    "output_img = draw_boxes(np.array(img), boxes, class_names, scores)"
   ]
  },
  {
   "cell_type": "code",
   "execution_count": null,
   "metadata": {},
   "outputs": [],
   "source": [
    "# Display the image with bounding boxes\n",
    "cv2_imshow(output_img)"
   ]
  },
  {
   "cell_type": "markdown",
   "metadata": {},
   "source": [
    "## Section 3: Natural Language Processing\n",
    "Application: Text Similarity"
   ]
  },
  {
   "cell_type": "code",
   "execution_count": null,
   "metadata": {},
   "outputs": [],
   "source": [
    "# Example text data\n",
    "text1 = \"AI is transforming the world.\"\n",
    "text2 = \"Artificial intelligence is changing everything.\""
   ]
  },
  {
   "cell_type": "code",
   "execution_count": null,
   "metadata": {},
   "outputs": [],
   "source": [
    "# Convert text data to embeddings\n",
    "embedding1 = sentiment_model([text1])[0]\n",
    "embedding2 = sentiment_model([text2])[0]"
   ]
  },
  {
   "cell_type": "code",
   "execution_count": null,
   "metadata": {},
   "outputs": [],
   "source": [
    "# Calculate cosine similarity between the two texts\n",
    "similarity = cosine_similarity([embedding1], [embedding2])[0][0]"
   ]
  },
  {
   "cell_type": "code",
   "execution_count": null,
   "metadata": {},
   "outputs": [],
   "source": [
    "# Display the texts and their similarity score\n",
    "print(f\"Text 1: {text1}\\nText 2: {text2}\\nSimilarity Score: {similarity}\")"
   ]
  }
 ],
 "metadata": {
  "kernelspec": {
   "display_name": "Python 3",
   "language": "python",
   "name": "python3"
  },
  "language_info": {
   "codemirror_mode": {
    "name": "ipython",
    "version": 3
   },
   "file_extension": ".py",
   "mimetype": "text/x-python",
   "name": "python",
   "nbconvert_exporter": "python",
   "pygments_lexer": "ipython3",
   "version": "3.9.18"
  }
 },
 "nbformat": 4,
 "nbformat_minor": 2
}
