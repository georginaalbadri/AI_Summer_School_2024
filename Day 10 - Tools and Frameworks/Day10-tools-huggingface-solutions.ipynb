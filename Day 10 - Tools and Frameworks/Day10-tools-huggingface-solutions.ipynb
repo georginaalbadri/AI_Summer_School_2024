{
 "cells": [
  {
   "cell_type": "markdown",
   "metadata": {},
   "source": [
    "# Using pre-trained models from Hugging Face"
   ]
  },
  {
   "cell_type": "markdown",
   "metadata": {},
   "source": [
    "## Text translation"
   ]
  },
  {
   "cell_type": "code",
   "execution_count": 1,
   "metadata": {},
   "outputs": [
    {
     "name": "stderr",
     "output_type": "stream",
     "text": [
      "/Users/georgie/anaconda3/envs/python3/lib/python3.11/site-packages/tqdm/auto.py:21: TqdmWarning: IProgress not found. Please update jupyter and ipywidgets. See https://ipywidgets.readthedocs.io/en/stable/user_install.html\n",
      "  from .autonotebook import tqdm as notebook_tqdm\n"
     ]
    }
   ],
   "source": [
    "## Step 1: Import the required Python libraries\n",
    "from transformers import pipeline"
   ]
  },
  {
   "cell_type": "code",
   "execution_count": 2,
   "metadata": {},
   "outputs": [
    {
     "name": "stderr",
     "output_type": "stream",
     "text": [
      "/Users/georgie/anaconda3/envs/python3/lib/python3.11/site-packages/torch/_utils.py:831: UserWarning: TypedStorage is deprecated. It will be removed in the future and UntypedStorage will be the only storage class. This should only matter to you if you are using storages directly.  To access UntypedStorage directly, use tensor.untyped_storage() instead of tensor.storage()\n",
      "  return self.fget.__get__(instance, owner)()\n",
      "/Users/georgie/anaconda3/envs/python3/lib/python3.11/site-packages/transformers/models/marian/tokenization_marian.py:175: UserWarning: Recommended: pip install sacremoses.\n",
      "  warnings.warn(\"Recommended: pip install sacremoses.\")\n",
      "Hardware accelerator e.g. GPU is available in the environment, but no `device` argument is passed to the `Pipeline` object. Model will be on CPU.\n"
     ]
    }
   ],
   "source": [
    "## Step 2: Load a pre-trained translation model (English to Spanish)\n",
    "translator = pipeline('translation_en_to_es', model='Helsinki-NLP/opus-mt-en-es')\n"
   ]
  },
  {
   "cell_type": "code",
   "execution_count": 3,
   "metadata": {},
   "outputs": [],
   "source": [
    "## Step 3: Define some example texts to translate\n",
    "texts = [\n",
    "    \"Hello, how are you?\",\n",
    "    \"Machine learning is fascinating.\",\n",
    "    \"I am learning to use pre-trained models.\",\n",
    "    \"Artificial Intelligence is the future.\"\n",
    "]"
   ]
  },
  {
   "cell_type": "code",
   "execution_count": 4,
   "metadata": {},
   "outputs": [],
   "source": [
    "## Step 4: Get translations from the model\n",
    "translations = translator(texts)"
   ]
  },
  {
   "cell_type": "code",
   "execution_count": 5,
   "metadata": {},
   "outputs": [
    {
     "name": "stdout",
     "output_type": "stream",
     "text": [
      "Original Text: Hello, how are you?\n",
      "Translation: Hola, ¿cómo estás?\n",
      "\n",
      "Original Text: Machine learning is fascinating.\n",
      "Translation: El aprendizaje automático es fascinante.\n",
      "\n",
      "Original Text: I am learning to use pre-trained models.\n",
      "Translation: Estoy aprendiendo a usar modelos pre-entrenados.\n",
      "\n",
      "Original Text: Artificial Intelligence is the future.\n",
      "Translation: Inteligencia Artificial es el futuro.\n",
      "\n"
     ]
    }
   ],
   "source": [
    "## Step 6: Display the results\n",
    "for text, translation in zip(texts, translations):\n",
    "    print(f\"Original Text: {text}\\nTranslation: {translation['translation_text']}\\n\")\n"
   ]
  },
  {
   "cell_type": "markdown",
   "metadata": {},
   "source": [
    "## Text summarization"
   ]
  },
  {
   "cell_type": "code",
   "execution_count": 6,
   "metadata": {},
   "outputs": [],
   "source": [
    "## Step 1: Import the required Python libraries\n",
    "from transformers import pipeline"
   ]
  },
  {
   "cell_type": "code",
   "execution_count": 7,
   "metadata": {},
   "outputs": [
    {
     "name": "stderr",
     "output_type": "stream",
     "text": [
      "Hardware accelerator e.g. GPU is available in the environment, but no `device` argument is passed to the `Pipeline` object. Model will be on CPU.\n"
     ]
    }
   ],
   "source": [
    "## Step 2: Load a pre-trained text summarization model\n",
    "summarizer = pipeline('summarization', model='t5-small')"
   ]
  },
  {
   "cell_type": "code",
   "execution_count": 9,
   "metadata": {},
   "outputs": [],
   "source": [
    "## Step 3: Define an example text to summarize\n",
    "text = \"Artificial intelligence is the future. It is a technology that is rapidly growing and evolving. AI has the potential to revolutionize many industries, including healthcare, finance, and transportation. However, there are also concerns about the impact of AI on jobs and privacy. Despite these challenges, AI has the potential to bring about positive change and improve the quality of life for many people.\""
   ]
  },
  {
   "cell_type": "code",
   "execution_count": 11,
   "metadata": {},
   "outputs": [],
   "source": [
    "## Step 4: Get summaries from the model\n",
    "summaries = summarizer(text, max_length=50, min_length=10)"
   ]
  },
  {
   "cell_type": "code",
   "execution_count": 12,
   "metadata": {},
   "outputs": [
    {
     "name": "stdout",
     "output_type": "stream",
     "text": [
      "Original Text:\n",
      "Artificial intelligence is the future. It is a technology that is rapidly growing and evolving. AI has the potential to revolutionize many industries, including healthcare, finance, and transportation. However, there are also concerns about the impact of AI on jobs and privacy. Despite these challenges, AI has the potential to bring about positive change and improve the quality of life for many people.\n",
      "\n",
      "Summary:\n",
      "AI has the potential to revolutionize many industries, including healthcare, finance, and transportation . but there are also concerns about the impact of AI on jobs and privacy .\n",
      "\n"
     ]
    }
   ],
   "source": [
    "## Step 5: Display the results\n",
    "print(f\"Original Text:\\n{text}\\n\")\n",
    "print(f\"Summary:\\n{summaries[0]['summary_text']}\\n\")"
   ]
  },
  {
   "cell_type": "markdown",
   "metadata": {},
   "source": [
    "### Other ideas: speech recognition (takes audio link, converts speech to text); image classification; question & answering (takes context and questions, generates answers)"
   ]
  },
  {
   "cell_type": "markdown",
   "metadata": {},
   "source": []
  }
 ],
 "metadata": {
  "kernelspec": {
   "display_name": "python3",
   "language": "python",
   "name": "python3"
  },
  "language_info": {
   "codemirror_mode": {
    "name": "ipython",
    "version": 3
   },
   "file_extension": ".py",
   "mimetype": "text/x-python",
   "name": "python",
   "nbconvert_exporter": "python",
   "pygments_lexer": "ipython3",
   "version": "3.11.5"
  }
 },
 "nbformat": 4,
 "nbformat_minor": 2
}
