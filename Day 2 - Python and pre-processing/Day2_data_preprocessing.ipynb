{
 "cells": [
  {
   "cell_type": "markdown",
   "id": "6892a207",
   "metadata": {},
   "source": [
    "# Challenge - Global warming data analysis\n",
    "\n",
    "![global warming](https://th.bing.com/th/id/R.59a9ab47b7b9a1e50fb75b124c9b3c9f?rik=qBHpxbnGeuMNUA&pid=ImgRaw&r=0)\n",
    "\n",
    "### Description\n",
    "\n",
    "It's now time to look at our first dataset, including visualisation and data cleaning. \n",
    "\n",
    "In this case study, we will analyze the global land temperature data in the countries with a goal to find any underlying relationships between the change in temperature and the geographical location.\n",
    "\n",
    "In addition, we should analyze the dataset as a whole: extracting statistical parameters, preprocessing the data and doing a bit of visualisation.\n",
    "\n",
    "### Data\n",
    "\n",
    "For this task, we will be using the [Climate Change: Earth Surface Temperature dataset](https://www.kaggle.com/berkeleyearth/climate-change-earth-surface-temperature-data?select=GlobalLandTemperaturesByCountry.csv) which combines 1.6 billion temperature reports from 16 pre-existing archives (starting from 1750s). \n",
    "\n",
    "\n",
    "### Tasks\n",
    "\n",
    "1. Preprocess and statistically describe the data\n",
    "2. Find and visualize the 20 countries with the highest mean temperature\n",
    "3. Which countries had the largest change in temperature?\n",
    "4. What is the overall tendency?"
   ]
  },
  {
   "cell_type": "markdown",
   "id": "90790149",
   "metadata": {},
   "source": [
    "# Import data"
   ]
  },
  {
   "cell_type": "code",
   "execution_count": null,
   "id": "63ee5346",
   "metadata": {},
   "outputs": [],
   "source": [
    "\n",
    "\n",
    "\n",
    "\n",
    "# Load dataset into Pandas DataFrame\n",
    "import pandas as pd\n",
    "import kaggle\n",
    "\n"
   ]
  },
  {
   "cell_type": "code",
   "execution_count": null,
   "id": "47ac205a",
   "metadata": {},
   "outputs": [],
   "source": [
    "# Download the dataset from Kaggle\n",
    "!kaggle datasets download -d berkeleyearth/climate-change-earth-surface-temperature-data\n"
   ]
  },
  {
   "cell_type": "code",
   "execution_count": null,
   "id": "24c5fdc9",
   "metadata": {},
   "outputs": [],
   "source": [
    "\n",
    "# Unzip the downloaded dataset\n",
    "!unzip climate-change-earth-surface-temperature-data.zip"
   ]
  },
  {
   "cell_type": "code",
   "execution_count": null,
   "id": "c38a6aa4",
   "metadata": {},
   "outputs": [],
   "source": [
    "# Load the dataset into a Pandas DataFrame\n",
    "df = pd.read_csv('GlobalLandTemperaturesByCountry.csv')\n",
    "\n",
    "# Display the first few rows of the dataset\n",
    "df.head()"
   ]
  },
  {
   "cell_type": "markdown",
   "id": "9ba91bcd",
   "metadata": {},
   "source": [
    "### Reading and describing data"
   ]
  },
  {
   "cell_type": "code",
   "execution_count": null,
   "id": "8b4a9516",
   "metadata": {},
   "outputs": [],
   "source": [
    "import matplotlib.pyplot as plt\n",
    "import numpy as np\n",
    "import pandas as pd"
   ]
  },
  {
   "cell_type": "code",
   "execution_count": null,
   "id": "e446a4e9",
   "metadata": {},
   "outputs": [],
   "source": [
    "#---------------------------------TODO------------------------------------#\n",
    "#Reading the data from a path\n",
    "path = r\"C:/Users/marty/Desktop/AI SOC - Tutorials 21_22/Week 1/GlobalLandTemperaturesByCountry.csv\"\n",
    "data = pd.read_csv(path)\n",
    "\n",
    "#Have a look of what the data is comprised of\n",
    "data.head()"
   ]
  },
  {
   "cell_type": "code",
   "execution_count": null,
   "id": "96059bd6",
   "metadata": {},
   "outputs": [],
   "source": [
    "#Brief information of the dataset\n",
    "data.info()"
   ]
  },
  {
   "cell_type": "code",
   "execution_count": null,
   "id": "7fcdde04",
   "metadata": {},
   "outputs": [],
   "source": [
    "#Find the number of countries\n",
    "num_countries = len(data['Country'].unique())"
   ]
  },
  {
   "cell_type": "markdown",
   "id": "2504a193",
   "metadata": {},
   "source": [
    "### Preprocessing\n",
    "\n",
    "As it can already be seen from the first glances at data, it contains a lot of NaN values which cannot be used for further analysis. Therefore, we need to remove these values from our dataset."
   ]
  },
  {
   "cell_type": "code",
   "execution_count": null,
   "id": "28f08904",
   "metadata": {},
   "outputs": [],
   "source": [
    "# Check the number of missing values\n",
    "print(data.isna().sum())"
   ]
  },
  {
   "cell_type": "code",
   "execution_count": null,
   "id": "9de3559e",
   "metadata": {},
   "outputs": [],
   "source": [
    "# Function that deals with missing values\n",
    "data.dropna(inplace = True)"
   ]
  },
  {
   "cell_type": "code",
   "execution_count": null,
   "id": "891462cd",
   "metadata": {},
   "outputs": [],
   "source": [
    "#Check if everything went correctly\n",
    "print(data.isna().sum())"
   ]
  },
  {
   "cell_type": "markdown",
   "id": "dc6e6624",
   "metadata": {},
   "source": [
    "### Visualizing data\n",
    "\n",
    "Prior to completing the intended analysis, it also might be useful to explore the data in further."
   ]
  },
  {
   "cell_type": "code",
   "execution_count": null,
   "id": "c8742f40",
   "metadata": {},
   "outputs": [],
   "source": [
    "# Find and visualize the 20 countries with the highest mean temperature\n",
    "temperature = data.groupby(['Country']).mean()\n",
    "hottest = temperature.sort_values(['AverageTemperature'], ascending = False)[:20]"
   ]
  },
  {
   "cell_type": "code",
   "execution_count": null,
   "id": "7992d522",
   "metadata": {},
   "outputs": [],
   "source": [
    "#Plotting bar graph\n",
    "x = hottest.index\n",
    "y = hottest.values[:, 0]\n",
    "plt.yticks(np.arange(0, 35, 2))\n",
    "plt.xticks(rotation = 90, fontsize = 8)\n",
    "plt.axhline(y=temperature[\"AverageTemperature\"].mean() , color=\"r\" , linestyle=\"--\")\n",
    "plt.xlabel('Country', fontsize = 12)\n",
    "plt.ylabel('Mean temperature', fontsize = 12)\n",
    "plt.title('Countries with the highest average temperature')\n",
    "plt.bar(x, y)"
   ]
  },
  {
   "cell_type": "markdown",
   "id": "f3456089",
   "metadata": {},
   "source": [
    "### Largest Temperature Change\n",
    "\n",
    "After performing the preprocessing and general data characterization, we can now find the countries that underwent the largest temperature change. There are numerous ways in which such task can be completed - the guided way is only a suggestion."
   ]
  },
  {
   "cell_type": "code",
   "execution_count": null,
   "id": "e18e4d8f",
   "metadata": {},
   "outputs": [],
   "source": [
    "# Extracting the names of countries from the dataset\n",
    "countries = data['Country'].unique()"
   ]
  },
  {
   "cell_type": "code",
   "execution_count": null,
   "id": "057b4619",
   "metadata": {},
   "outputs": [],
   "source": [
    "# Extracting the change in temperature using the loop\n",
    "Temp_Data = {}\n",
    "\n",
    "for country in countries:\n",
    "    #for each country find the 'initial' and last temperature values\n",
    "    temp = data[data['Country'] == country]['AverageTemperature']\n",
    "    a, b = temp.index[0], temp.index[-1]\n",
    "    \n",
    "    Temp_Data[country] = round((temp[b] - temp[a]), 2)"
   ]
  },
  {
   "cell_type": "code",
   "execution_count": null,
   "id": "21b0a98c",
   "metadata": {},
   "outputs": [],
   "source": [
    "# Converting to dataframe and sorting in descending order\n",
    "temp_change = pd.DataFrame(Temp_Data, index = [0]).T\n",
    "highest_change = temp_change.sort_values([0], ascending = False)[:20]"
   ]
  },
  {
   "cell_type": "code",
   "execution_count": null,
   "id": "895af492",
   "metadata": {},
   "outputs": [],
   "source": [
    "# Generating bar plot\n",
    "y = highest_change.values[:, 0]\n",
    "x = highest_change.index\n",
    "plt.bar(x, y)\n",
    "plt.xticks(rotation = 90)\n",
    "plt.xlabel('Country', fontsize = 12)\n",
    "plt.ylabel('Temperature Change', fontsize = 12)\n",
    "plt.title('Countries with the largest temperature change', fontsize = 13)\n",
    "plt.show()"
   ]
  },
  {
   "cell_type": "markdown",
   "id": "d3e230c0",
   "metadata": {},
   "source": [
    "### Overall Tendencies\n",
    "\n",
    "There are a few ways in which we could determine the overall tendencies in the global surface temperature - we could analyze the temperature change per country or we could observe the change in the average global temperature. Let's look at both cases."
   ]
  },
  {
   "cell_type": "code",
   "execution_count": null,
   "id": "3216ad37",
   "metadata": {
    "scrolled": true
   },
   "outputs": [],
   "source": [
    "# Plot the bar graph for all countries\n",
    "\n",
    "highest_change = temp_change.sort_values([0], ascending = False)\n",
    "y = highest_change.values[:, 0]\n",
    "x = highest_change.index\n",
    "plt.bar(x, y)\n",
    "plt.xticks(visible = False)\n",
    "plt.ylabel('Temperature Change', fontsize = 12)\n",
    "plt.title('Temperature Change Distribution', fontsize = 13)\n",
    "plt.show()"
   ]
  },
  {
   "cell_type": "code",
   "execution_count": null,
   "id": "149d87a5",
   "metadata": {},
   "outputs": [],
   "source": [
    "# Extract the average world temperature throughout the years\n",
    "average_world_temp = data.groupby(['dt']).mean()\n",
    "\n",
    "#Plot the extracted data\n",
    "y = np.array(average_world_temp['AverageTemperature'])\n",
    "plt.ylabel('Average Global Temperature')\n",
    "plt.xticks(visible = False)\n",
    "plt.title('Average Global Temperature Historical Data')\n",
    "plt.plot(y)"
   ]
  }
 ],
 "metadata": {
  "kernelspec": {
   "display_name": "Python 3 (ipykernel)",
   "language": "python",
   "name": "python3"
  },
  "language_info": {
   "codemirror_mode": {
    "name": "ipython",
    "version": 3
   },
   "file_extension": ".py",
   "mimetype": "text/x-python",
   "name": "python",
   "nbconvert_exporter": "python",
   "pygments_lexer": "ipython3",
   "version": "3.9.6"
  }
 },
 "nbformat": 4,
 "nbformat_minor": 5
}
