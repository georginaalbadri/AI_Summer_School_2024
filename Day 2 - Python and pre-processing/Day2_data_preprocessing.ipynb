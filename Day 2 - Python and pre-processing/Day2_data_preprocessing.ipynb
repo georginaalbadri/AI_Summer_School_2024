{
 "cells": [
  {
   "cell_type": "markdown",
   "id": "6892a207",
   "metadata": {},
   "source": [
    "# Challenge - Global warming data analysis\n",
    "\n",
    "![global warming](https://th.bing.com/th/id/R.59a9ab47b7b9a1e50fb75b124c9b3c9f?rik=qBHpxbnGeuMNUA&pid=ImgRaw&r=0)\n",
    "\n",
    "### Description\n",
    "\n",
    "It's now time to look at our first dataset, including visualisation and data cleaning. \n",
    "\n",
    "In this case study, we will analyze the global land temperature data in the countries with a goal to find any underlying relationships between the change in temperature and the geographical location.\n",
    "\n",
    "In addition, we should analyze the dataset as a whole: extracting statistical parameters, preprocessing the data and doing a bit of visualisation.\n",
    "\n",
    "### Data\n",
    "\n",
    "For this task, we will be using the [Climate Change: Earth Surface Temperature dataset](https://www.kaggle.com/berkeleyearth/climate-change-earth-surface-temperature-data?select=GlobalLandTemperaturesByCountry.csv) which combines 1.6 billion temperature reports from 16 pre-existing archives (starting from 1750s). \n",
    "\n",
    "\n",
    "### Tasks\n",
    "\n",
    "1. Preprocess and statistically describe the data\n",
    "2. Find and visualize the 20 countries with the highest mean temperature\n",
    "3. Which countries had the largest change in temperature?\n",
    "4. What is the overall tendency?"
   ]
  },
  {
   "cell_type": "markdown",
   "id": "cadb914b",
   "metadata": {},
   "source": [
    "To get the dataset, we need a kaggle account and a kaggle.json file. First, log in to kaggle (you can log in with your google account): \\\n",
    "https://www.kaggle.com/\n",
    "\n",
    "Then, find the subheading 'API' in your settings \\\n",
    "https://www.kaggle.com/settings \\\n",
    "and click 'Create New Token' which will automatically download a kaggle.json file. \n",
    "\n",
    "Finally, using the folder icon on the left of this notebook <- upload the kaggle.json file to Colab."
   ]
  },
  {
   "cell_type": "code",
   "execution_count": null,
   "id": "c84b69f0",
   "metadata": {},
   "outputs": [],
   "source": [
    "# We need to move the kaggle.json file to the expected location \n",
    "\n",
    "!mkdir -p ~/.kaggle\n",
    "!cp kaggle.json ~/.kaggle/\n",
    "!chmod 600 ~/.kaggle/kaggle.json"
   ]
  },
  {
   "cell_type": "code",
   "execution_count": null,
   "id": "de6f2bdf",
   "metadata": {},
   "outputs": [],
   "source": [
    "import pandas as pd\n",
    "import kaggle\n",
    "import matplotlib.pyplot as plt\n",
    "import seaborn as sns"
   ]
  },
  {
   "cell_type": "markdown",
   "id": "90790149",
   "metadata": {},
   "source": [
    "# Import data"
   ]
  },
  {
   "cell_type": "code",
   "execution_count": null,
   "id": "47ac205a",
   "metadata": {},
   "outputs": [],
   "source": [
    "# Download the dataset from Kaggle\n",
    "!kaggle datasets download -d berkeleyearth/climate-change-earth-surface-temperature-data"
   ]
  },
  {
   "cell_type": "code",
   "execution_count": null,
   "id": "24c5fdc9",
   "metadata": {},
   "outputs": [],
   "source": [
    "# Unzip the downloaded dataset\n",
    "!unzip climate-change-earth-surface-temperature-data.zip"
   ]
  },
  {
   "cell_type": "code",
   "execution_count": null,
   "id": "c38a6aa4",
   "metadata": {},
   "outputs": [],
   "source": [
    "# Load the dataset into a Pandas DataFrame\n",
    "data = pd.read_csv('GlobalLandTemperaturesByCountry.csv')"
   ]
  },
  {
   "cell_type": "markdown",
   "id": "9ba91bcd",
   "metadata": {},
   "source": [
    "### Reading and describing data"
   ]
  },
  {
   "cell_type": "code",
   "execution_count": null,
   "id": "674d8d98",
   "metadata": {},
   "outputs": [],
   "source": [
    "# Display the first few rows of the dataset\n",
    "data.head()"
   ]
  },
  {
   "cell_type": "code",
   "execution_count": null,
   "id": "96059bd6",
   "metadata": {},
   "outputs": [],
   "source": [
    "#Brief information of the dataset\n",
    "data.info()"
   ]
  },
  {
   "cell_type": "code",
   "execution_count": null,
   "id": "c8eed8c3",
   "metadata": {},
   "outputs": [],
   "source": [
    "# Summary statistics\n",
    "print(data.describe())"
   ]
  },
  {
   "cell_type": "code",
   "execution_count": null,
   "id": "7fcdde04",
   "metadata": {},
   "outputs": [],
   "source": [
    "#Find the number of countries\n",
    "num_countries = len(data['Country'].unique())\n",
    "print(f'There are {num_countries} unique countries in the dataset.')"
   ]
  },
  {
   "cell_type": "markdown",
   "id": "2504a193",
   "metadata": {},
   "source": [
    "### Preprocessing\n",
    "\n",
    "As it can already be seen from the first glances at data, it contains a lot of NaN values which cannot be used for further analysis. Therefore, we need to remove these values from our dataset."
   ]
  },
  {
   "cell_type": "code",
   "execution_count": null,
   "id": "28f08904",
   "metadata": {},
   "outputs": [],
   "source": [
    "# Check the number of missing values\n",
    "print(data.isna().sum())"
   ]
  },
  {
   "cell_type": "code",
   "execution_count": null,
   "id": "56ec7b7f",
   "metadata": {},
   "outputs": [],
   "source": [
    "# Check what percentage of the data is missing\n",
    "missing_percentage = data.isna().sum() / len(data) * 100\n",
    "print(f'Percentage of missing values in each column: \\n{missing_percentage}')"
   ]
  },
  {
   "cell_type": "code",
   "execution_count": null,
   "id": "9de3559e",
   "metadata": {},
   "outputs": [],
   "source": [
    "# Function that deals with missing values\n",
    "data.dropna(inplace = True)"
   ]
  },
  {
   "cell_type": "code",
   "execution_count": null,
   "id": "891462cd",
   "metadata": {},
   "outputs": [],
   "source": [
    "#Check if everything went correctly\n",
    "print(data.isna().sum())"
   ]
  },
  {
   "cell_type": "code",
   "execution_count": null,
   "id": "0dfff398",
   "metadata": {},
   "outputs": [],
   "source": [
    "# Check names of the countries - can you see any duplicates or mistakes?\n",
    "countries = data['Country'].unique()\n",
    "print(countries)"
   ]
  },
  {
   "cell_type": "code",
   "execution_count": null,
   "id": "e8b9163c",
   "metadata": {},
   "outputs": [],
   "source": [
    "# replace 'United Kingdom (Europe)' with 'United Kingdom'\n",
    "data['Country'] = data['Country'].replace('United Kingdom (Europe)', 'United Kingdom')"
   ]
  },
  {
   "cell_type": "code",
   "execution_count": null,
   "id": "d1ed771b",
   "metadata": {},
   "outputs": [],
   "source": [
    "# Check if the replacement was successful\n",
    "countries = data['Country'].unique()\n",
    "print(countries)"
   ]
  },
  {
   "cell_type": "markdown",
   "id": "dc6e6624",
   "metadata": {},
   "source": [
    "### Visualizing data\n",
    "\n",
    "Prior to completing the intended analysis, it also might be useful to explore the data in further."
   ]
  },
  {
   "cell_type": "code",
   "execution_count": null,
   "id": "c8742f40",
   "metadata": {},
   "outputs": [],
   "source": [
    "# Boxplot of the average temperature of UK, China, and USA\n",
    "subset_data = data[data['Country'].isin(['United Kingdom', 'China', 'United States'])]\n",
    "plt.figure(figsize=(12, 6))\n",
    "sns.boxplot(x='Country', y='AverageTemperature', data=subset_data)\n",
    "plt.xticks(rotation=90)\n",
    "plt.show()"
   ]
  },
  {
   "cell_type": "code",
   "execution_count": null,
   "id": "12495294",
   "metadata": {},
   "outputs": [],
   "source": [
    "# Violinplot shows slightly more detail on the distribution of the data\n",
    "plt.figure(figsize=(12, 6))\n",
    "sns.violinplot(x='Country', y='AverageTemperature', data=subset_data)\n",
    "plt.xticks(rotation=90)"
   ]
  },
  {
   "cell_type": "markdown",
   "id": "f3456089",
   "metadata": {},
   "source": [
    "### Largest Temperature Change\n",
    "\n",
    "After performing the preprocessing and general data characterization, we can now find the countries that underwent the largest temperature change. There are numerous ways in which such task can be completed - the guided way is only a suggestion."
   ]
  },
  {
   "cell_type": "code",
   "execution_count": null,
   "id": "e18e4d8f",
   "metadata": {},
   "outputs": [],
   "source": [
    "# Extracting the names of countries from the dataset\n",
    "countries = data['Country'].unique()"
   ]
  },
  {
   "cell_type": "code",
   "execution_count": null,
   "id": "057b4619",
   "metadata": {},
   "outputs": [],
   "source": [
    "# Extracting the change in temperature using the loop\n",
    "Temp_Data = {}\n",
    "\n",
    "for country in countries:\n",
    "    #for each country find the 'initial' and last temperature values\n",
    "    temp = data[data['Country'] == country]['AverageTemperature']\n",
    "    a, b = temp.index[0], temp.index[-1]\n",
    "    \n",
    "    Temp_Data[country] = round((temp[b] - temp[a]), 2)"
   ]
  },
  {
   "cell_type": "code",
   "execution_count": null,
   "id": "21b0a98c",
   "metadata": {},
   "outputs": [],
   "source": [
    "# Converting to dataframe and sorting in descending order\n",
    "temp_change = pd.DataFrame(Temp_Data, index = [0]).T\n",
    "highest_change = temp_change.sort_values([0], ascending = False)[:20]"
   ]
  },
  {
   "cell_type": "code",
   "execution_count": null,
   "id": "895af492",
   "metadata": {},
   "outputs": [],
   "source": [
    "# Generating bar plot\n",
    "y = highest_change.values[:, 0]\n",
    "x = highest_change.index\n",
    "plt.bar(x, y)\n",
    "plt.xticks(rotation = 90)\n",
    "plt.xlabel('Country', fontsize = 12)\n",
    "plt.ylabel('Temperature Change', fontsize = 12)\n",
    "plt.title('Countries with the largest temperature change', fontsize = 13)\n",
    "plt.show()"
   ]
  },
  {
   "cell_type": "markdown",
   "id": "d3e230c0",
   "metadata": {},
   "source": [
    "### Overall Tendencies\n",
    "\n",
    "There are a few ways in which we could determine the overall tendencies in the global surface temperature - we could analyze the temperature change per country or we could observe the change in the average global temperature. Let's look at both cases."
   ]
  },
  {
   "cell_type": "code",
   "execution_count": null,
   "id": "3216ad37",
   "metadata": {
    "scrolled": true
   },
   "outputs": [],
   "source": [
    "# Plot the bar graph for all countries\n",
    "\n",
    "highest_change = temp_change.sort_values([0], ascending = False)\n",
    "y = highest_change.values[:, 0]\n",
    "x = highest_change.index\n",
    "plt.bar(x, y)\n",
    "plt.xticks(visible = False)\n",
    "plt.ylabel('Temperature Change', fontsize = 12)\n",
    "plt.title('Temperature Change Distribution', fontsize = 13)\n",
    "plt.show()"
   ]
  },
  {
   "cell_type": "code",
   "execution_count": null,
   "id": "149d87a5",
   "metadata": {},
   "outputs": [],
   "source": [
    "# Average temperature over time\n",
    "data['dt'] = pd.to_datetime[data['dt'])\n",
    "data['year'] = data['dt'].dt.year\n",
    "average_temp_by_year = data.groupby('year')['AverageTemperature'].mean()\n",
    "\n",
    "plt.figure(figsize=(12, 6))\n",
    "average_temp_by_year.plot()\n",
    "plt.title('Average Temperature Over Time')\n",
    "plt.xlabel('Year')\n",
    "plt.ylabel('Average Temperature (°C)')\n",
    "plt.grid(True)\n",
    "plt.show()"
   ]
  }
 ],
 "metadata": {
  "kernelspec": {
   "display_name": "Python 3 (ipykernel)",
   "language": "python",
   "name": "python3"
  },
  "language_info": {
   "codemirror_mode": {
    "name": "ipython",
    "version": 3
   },
   "file_extension": ".py",
   "mimetype": "text/x-python",
   "name": "python",
   "nbconvert_exporter": "python",
   "pygments_lexer": "ipython3",
   "version": "3.9.6"
  }
 },
 "nbformat": 4,
 "nbformat_minor": 5
}
